{
 "cells": [
  {
   "cell_type": "code",
   "execution_count": 1,
   "id": "aeb4ce96",
   "metadata": {},
   "outputs": [],
   "source": [
    "import tensorflow \n",
    "import pandas as pd\n",
    "import pathlib"
   ]
  },
  {
   "cell_type": "code",
   "execution_count": 31,
   "id": "5afe70cf",
   "metadata": {},
   "outputs": [],
   "source": [
    "data = pd.read_csv('Questions/training_question.csv')"
   ]
  },
  {
   "cell_type": "code",
   "execution_count": 3,
   "id": "56bd96de",
   "metadata": {},
   "outputs": [],
   "source": [
    "import numpy as np\n",
    "import os\n",
    "import PIL\n",
    "import PIL.Image\n",
    "import tensorflow as tf\n",
    "import tensorflow_datasets as tfds\n",
    "#newsize=(300,400,100)\n",
    "from PIL import Image"
   ]
  },
  {
   "cell_type": "code",
   "execution_count": 32,
   "id": "ee7809c1",
   "metadata": {},
   "outputs": [],
   "source": [
    "data = data[data ['Question_Type'] == 'Condition_Recognition']\n",
    "data = data[data ['Image_ID'].isin(os.listdir('Images/Train_Image'))]"
   ]
  },
  {
   "cell_type": "code",
   "execution_count": 33,
   "id": "197243f3",
   "metadata": {},
   "outputs": [],
   "source": [
    "data.drop(labels=['_key','Question','Question_Type'],axis=1,inplace = True)"
   ]
  },
  {
   "cell_type": "code",
   "execution_count": 34,
   "id": "0a485d35",
   "metadata": {},
   "outputs": [],
   "source": [
    "data.loc[data[\"Ground_Truth\"] == \"flooded\", \"Ground_Truth\"] = 1\n",
    "data.loc[data[\"Ground_Truth\"] == \"non flooded\", \"Ground_Truth\"] = 0\n",
    "data.drop_duplicates(keep=False, inplace=True)"
   ]
  },
  {
   "cell_type": "code",
   "execution_count": 35,
   "id": "d4d90a26",
   "metadata": {},
   "outputs": [],
   "source": [
    "x = list(data['Image_ID'])\n",
    "b = os.listdir('Images/Images')\n",
    "imgs=[]"
   ]
  },
  {
   "cell_type": "code",
   "execution_count": 36,
   "id": "3f9d7aaa",
   "metadata": {},
   "outputs": [],
   "source": [
    "l=[]\n",
    "for i in b:\n",
    "    if i in x:\n",
    "        l.append(i)\n",
    "list.sort(l)\n",
    "l.remove('7693.JPG')\n",
    "l.remove('9003.JPG')\n",
    "data = data[data.Image_ID!= '9003.JPG']\n",
    "data = data[data.Image_ID!= '7693.JPG']"
   ]
  },
  {
   "cell_type": "code",
   "execution_count": 37,
   "id": "531a4319",
   "metadata": {},
   "outputs": [],
   "source": [
    "del x\n",
    "del b"
   ]
  },
  {
   "cell_type": "code",
   "execution_count": 38,
   "id": "8bf099d7",
   "metadata": {},
   "outputs": [],
   "source": [
    "imgs=[]\n",
    "for i in range(len(l)):\n",
    "    path = 'Images/Train_Image/' + l[i]\n",
    "    Load_image=tf.keras.preprocessing.image.load_img(path)\n",
    "    itr = np.array(Load_image)\n",
    "    imgs.append(itr)"
   ]
  },
  {
   "cell_type": "code",
   "execution_count": 39,
   "id": "3ffbc64e",
   "metadata": {},
   "outputs": [],
   "source": [
    "train_imgs =imgs[:100]\n",
    "test_imgs = imgs [100:]\n",
    "y = list(data['Ground_Truth'])\n",
    "y_train = y[:100]\n",
    "y_test = y[100:]\n",
    "del imgs"
   ]
  },
  {
   "cell_type": "code",
   "execution_count": 40,
   "id": "5a5ec8c0",
   "metadata": {},
   "outputs": [],
   "source": [
    "del l"
   ]
  },
  {
   "cell_type": "code",
   "execution_count": 41,
   "id": "d324934a",
   "metadata": {},
   "outputs": [],
   "source": [
    "x_train1 = []\n",
    "y_train1 = []\n",
    "for i in range(len(train_imgs)):\n",
    "    if len(train_imgs[i])==3000:\n",
    "        x_train1.append(train_imgs[i])\n",
    "        y_train1.append(y[i])\n",
    "x_train1 = np.array(x_train1)\n",
    "y_train1 = np.array(y_train1)"
   ]
  },
  {
   "cell_type": "code",
   "execution_count": 42,
   "id": "669d566f",
   "metadata": {},
   "outputs": [],
   "source": [
    "#x_train1 = np.expand_dims(x_train1, axis=0)\n",
    "#y_train1 = np.expand_dims(y_train1, axis=0)\n",
    "del y\n",
    "del train_imgs\n",
    "del y_test \n",
    "del test_imgs"
   ]
  },
  {
   "cell_type": "code",
   "execution_count": 43,
   "id": "5fa142f3",
   "metadata": {},
   "outputs": [],
   "source": [
    "from tensorflow.keras.applications.resnet50 import preprocess_input\n",
    "from tensorflow.keras.applications.resnet50 import decode_predictions\n",
    "from tensorflow.keras.applications.resnet50 import ResNet50\n",
    "from tensorflow.keras import Model"
   ]
  },
  {
   "cell_type": "code",
   "execution_count": 44,
   "id": "4708ddbf",
   "metadata": {},
   "outputs": [],
   "source": [
    "from tensorflow.keras.utils import load_img\n",
    "from tensorflow.keras.utils import img_to_array"
   ]
  },
  {
   "cell_type": "code",
   "execution_count": 45,
   "id": "80c65def",
   "metadata": {},
   "outputs": [],
   "source": [
    "from tensorflow.keras.layers import Input,Dense, MaxPool2D, Conv2D, Flatten\n",
    "from tensorflow.keras import Sequential, Input"
   ]
  },
  {
   "cell_type": "code",
   "execution_count": 58,
   "id": "ab46e81e",
   "metadata": {},
   "outputs": [],
   "source": [
    "model=Sequential()"
   ]
  },
  {
   "cell_type": "code",
   "execution_count": 59,
   "id": "54a2d335",
   "metadata": {},
   "outputs": [],
   "source": [
    "#model.add(Input([100,4000,3000,1]))\n",
    "model.add(Conv2D(16, 3, activation='relu', input_shape=(3000,4000,3)))\n",
    "model.add(MaxPool2D((2, 2)))\n",
    "model.add(Conv2D(32,3, activation='relu'))\n",
    "model.add(MaxPool2D((2, 2)))\n",
    "model.add(Conv2D(64, 3, activation='relu'))\n",
    "model.add(MaxPool2D(2,2))\n",
    "model.add(Flatten(input_shape=(3000,4000,3)))"
   ]
  },
  {
   "cell_type": "code",
   "execution_count": 60,
   "id": "f2769ace",
   "metadata": {},
   "outputs": [
    {
     "name": "stdout",
     "output_type": "stream",
     "text": [
      "Model: \"sequential_3\"\n",
      "_________________________________________________________________\n",
      " Layer (type)                Output Shape              Param #   \n",
      "=================================================================\n",
      " conv2d_9 (Conv2D)           (None, 2998, 3998, 16)    448       \n",
      "                                                                 \n",
      " max_pooling2d_9 (MaxPooling  (None, 1499, 1999, 16)   0         \n",
      " 2D)                                                             \n",
      "                                                                 \n",
      " conv2d_10 (Conv2D)          (None, 1497, 1997, 32)    4640      \n",
      "                                                                 \n",
      " max_pooling2d_10 (MaxPoolin  (None, 748, 998, 32)     0         \n",
      " g2D)                                                            \n",
      "                                                                 \n",
      " conv2d_11 (Conv2D)          (None, 746, 996, 64)      18496     \n",
      "                                                                 \n",
      " max_pooling2d_11 (MaxPoolin  (None, 373, 498, 64)     0         \n",
      " g2D)                                                            \n",
      "                                                                 \n",
      " flatten_3 (Flatten)         (None, 11888256)          0         \n",
      "                                                                 \n",
      "=================================================================\n",
      "Total params: 23,584\n",
      "Trainable params: 23,584\n",
      "Non-trainable params: 0\n",
      "_________________________________________________________________\n"
     ]
    }
   ],
   "source": [
    "model.summary()"
   ]
  },
  {
   "cell_type": "code",
   "execution_count": 61,
   "id": "7362ae24",
   "metadata": {},
   "outputs": [],
   "source": [
    "#model.add(Dense(128,activation='tanh'))\n",
    "model.add(Dense(1,activation='sigmoid'))"
   ]
  },
  {
   "cell_type": "code",
   "execution_count": 62,
   "id": "5ca14807",
   "metadata": {},
   "outputs": [],
   "source": [
    "model.compile(optimizer='adam',loss='binary_crossentropy',metrics=['accuracy'])"
   ]
  },
  {
   "cell_type": "code",
   "execution_count": 63,
   "id": "d60a352a",
   "metadata": {},
   "outputs": [
    {
     "name": "stdout",
     "output_type": "stream",
     "text": [
      "Epoch 1/2\n",
      "23/23 [==============================] - 93s 4s/step - loss: 0.6877 - accuracy: 1.0000\n",
      "Epoch 2/2\n",
      "23/23 [==============================] - 93s 4s/step - loss: 0.6764 - accuracy: 1.0000\n"
     ]
    },
    {
     "data": {
      "text/plain": [
       "<keras.callbacks.History at 0x1405fde50>"
      ]
     },
     "execution_count": 63,
     "metadata": {},
     "output_type": "execute_result"
    }
   ],
   "source": [
    "model.fit(x=x_train1, y=y_train1, epochs=2, batch_size = 4)"
   ]
  },
  {
   "cell_type": "code",
   "execution_count": 64,
   "id": "6c7a4562",
   "metadata": {},
   "outputs": [],
   "source": [
    "model.save('flood_detection.h5')"
   ]
  },
  {
   "cell_type": "code",
   "execution_count": 66,
   "id": "ab438a17",
   "metadata": {},
   "outputs": [
    {
     "name": "stderr",
     "output_type": "stream",
     "text": [
      "WARNING:absl:Found untraced functions such as _jit_compiled_convolution_op, _jit_compiled_convolution_op, _jit_compiled_convolution_op while saving (showing 3 of 3). These functions will not be directly callable after loading.\n"
     ]
    },
    {
     "name": "stdout",
     "output_type": "stream",
     "text": [
      "INFO:tensorflow:Assets written to: /var/folders/b7/z5vwn3h52m3g5vn1rt3rm2v80000gp/T/tmp_357k4vh/assets\n"
     ]
    },
    {
     "name": "stderr",
     "output_type": "stream",
     "text": [
      "INFO:tensorflow:Assets written to: /var/folders/b7/z5vwn3h52m3g5vn1rt3rm2v80000gp/T/tmp_357k4vh/assets\n"
     ]
    },
    {
     "data": {
      "text/plain": [
       "47651116"
      ]
     },
     "execution_count": 66,
     "metadata": {},
     "output_type": "execute_result"
    }
   ],
   "source": [
    "import tensorflow as tf\n",
    "model = tf.keras.models.load_model('flood_detection.h5')\n",
    "converter = tf.lite.TFLiteConverter.from_keras_model(model)\n",
    "tflmodel = converter.convert()\n",
    "file = open( 'flood_detection.tflite' , 'wb' ) \n",
    "file.write( tflmodel )\n",
    "\n"
   ]
  },
  {
   "cell_type": "code",
   "execution_count": null,
   "id": "f53157bb",
   "metadata": {},
   "outputs": [],
   "source": []
  }
 ],
 "metadata": {
  "kernelspec": {
   "display_name": "Python 3 (ipykernel)",
   "language": "python",
   "name": "python3"
  },
  "language_info": {
   "codemirror_mode": {
    "name": "ipython",
    "version": 3
   },
   "file_extension": ".py",
   "mimetype": "text/x-python",
   "name": "python",
   "nbconvert_exporter": "python",
   "pygments_lexer": "ipython3",
   "version": "3.10.8"
  }
 },
 "nbformat": 4,
 "nbformat_minor": 5
}
